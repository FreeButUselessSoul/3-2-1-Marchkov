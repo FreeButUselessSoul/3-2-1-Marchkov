{
 "cells": [
  {
   "cell_type": "code",
   "execution_count": 8,
   "metadata": {},
   "outputs": [
    {
     "name": "stdout",
     "output_type": "stream",
     "text": [
      "200\n",
      "{\"e\":0,\"m\":\"操作成功\",\"d\":{\"name\":\"夏一飞\\r\\n1700011620\\r\\n物理学院\",\"code\":\"iKpIT6RrwpCx4tROgDAP%2BjZlN2UxMmFmYjM1ZmMwZDlkMmMzNDMzZjlkMTY4OTE4OGM1N2JjZjRlYTQwYTcwNDNjNzlkYWM2ZDY4Mjk2Zjmhoq%2B0abGd188QGfW9ctWDJVqzMYsradVat7Tq89PMSs3bXNhVcH2LwNr9neazW8E4WA%2BnlqO9pa9l3Ri4MW%2FjVU%2FfSt1XbQQuYPC0oaaaZg%3D%3D\"}}\n"
     ]
    }
   ],
   "source": [
    "import json\n",
    "import datetime\n",
    "import requests\n",
    "from logging import getLogger\n",
    "from dotenv import load_dotenv\n",
    "from os import getenv\n",
    "from fastapi import FastAPI\n",
    "from pytz import timezone\n",
    "\n",
    "# 从.env.local读取环境变量\n",
    "load_dotenv(dotenv_path=\"../.env.local\")\n",
    "\n",
    "logger = getLogger(__name__)\n",
    "\n",
    "app = FastAPI()\n",
    "\n",
    "s = requests.Session()\n",
    "headers = {\n",
    "    \"User-Agent\": \"Mozilla/5.0 (Macintosh; Intel Mac OS X 10_15_7) AppleWebKit/537.36 (KHTML, like Gecko) Chrome/\"\n",
    "}\n",
    "\n",
    "username = getenv(\"PKU_USERNAME\")\n",
    "password = getenv(\"PKU_PASSWORD\")\n",
    "\n",
    "r = s.post(\n",
    "    \"https://iaaa.pku.edu.cn/iaaa/oauthlogin.do\",\n",
    "    data={\n",
    "        \"appid\": \"wproc\",\n",
    "        \"userName\": username,\n",
    "        \"password\": password,\n",
    "        \"redirUrl\": \"https://wproc.pku.edu.cn/site/login/cas-login?redirect_url=https://wproc.pku.edu.cn/v2/reserve/\",\n",
    "    },\n",
    ")\n",
    "token = json.loads(r.text)[\"token\"]\n",
    "\n",
    "r = s.get(\n",
    "    f\"https://wproc.pku.edu.cn/site/login/cas-login?redirect_url=https://wproc.pku.edu.cn/v2/reserve/&_rand=0.6441813796046802&token={token}\"\n",
    ")\n",
    "\n",
    "date = datetime.datetime.now().strftime(\"%Y-%m-%d\")\n",
    "\n",
    "r = s.get(\n",
    "    f\"https://wproc.pku.edu.cn/site/reservation/list-page?hall_id=1&time=%{date}&p=1&page_size=0\"\n",
    ")\n",
    "resources = json.loads(r.text)[\"d\"][\"list\"]\n",
    "\n",
    "r = s.get(\n",
    "    \"https://wproc.pku.edu.cn/site/reservation/launch\",\n",
    "    data={\n",
    "        \"resource_id\": \"4\",\n",
    "        \"data\": '[{\"date\": \"2024-07-06\", \"period\": 31, \"sub_resource_id\": 0}]',\n",
    "    },\n",
    ")\n",
    "\n",
    "r = s.get(\n",
    "    \"https://wproc.pku.edu.cn/site/reservation/my-list-time?p=1&page_size=10&status=2&sort_time=true&sort=asc\",\n",
    ")\n",
    "apps = json.loads(r.text)[\"d\"][\"data\"]\n",
    "\n",
    "app_0 = apps[0]\n",
    "app_id = app_0[\"id\"]\n",
    "app_appointment_id = app_0[\"hall_appointment_data_id\"]\n",
    "r = s.get(\n",
    "    f\"https://wproc.pku.edu.cn/site/reservation/get-sign-qrcode?type=1&id=${app_id}&hall_appointment_data_id=${app_appointment_id}\"\n",
    ")\n",
    "print(r.status_code)\n",
    "print(r.text)\n"
   ]
  },
  {
   "cell_type": "code",
   "execution_count": 9,
   "metadata": {},
   "outputs": [],
   "source": [
    "import qrcode\n",
    "\n",
    "# 输入需要生成二维码的字符串\n",
    "data = \"iKpIT6RrwpCx4tROgDAP%2BjZlN2UxMmFmYjM1ZmMwZDlkMmMzNDMzZjlkMTY4OTE4OGM1N2JjZjRlYTQwYTcwNDNjNzlkYWM2ZDY4Mjk2Zjmhoq%2B0abGd188QGfW9ctWDJVqzMYsradVat7Tq89PMSs3bXNhVcH2LwNr9neazW8E4WA%2BnlqO9pa9l3Ri4MW%2FjVU%2FfSt1XbQQuYPC0oaaaZg%3D%3D\"\n",
    "\n",
    "# 创建二维码对象\n",
    "qr = qrcode.QRCode(\n",
    "    version=1,\n",
    "    error_correction=qrcode.constants.ERROR_CORRECT_L,\n",
    "    box_size=10,\n",
    "    border=4,\n",
    ")\n",
    "\n",
    "# 添加数据到二维码对象\n",
    "qr.add_data(data)\n",
    "qr.make(fit=True)\n",
    "\n",
    "# 创建图像\n",
    "img = qr.make_image(fill='black', back_color='white')\n",
    "\n",
    "# 保存图像\n",
    "img.save(\"qrcode.png\")"
   ]
  },
  {
   "cell_type": "code",
   "execution_count": null,
   "metadata": {},
   "outputs": [],
   "source": []
  }
 ],
 "metadata": {
  "kernelspec": {
   "display_name": "Python 3",
   "language": "python",
   "name": "python3"
  },
  "language_info": {
   "codemirror_mode": {
    "name": "ipython",
    "version": 3
   },
   "file_extension": ".py",
   "mimetype": "text/x-python",
   "name": "python",
   "nbconvert_exporter": "python",
   "pygments_lexer": "ipython3",
   "version": "3.9.19"
  }
 },
 "nbformat": 4,
 "nbformat_minor": 2
}
